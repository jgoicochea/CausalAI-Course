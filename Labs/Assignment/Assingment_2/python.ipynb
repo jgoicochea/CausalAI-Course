{
 "cells": [
  {
   "cell_type": "code",
   "execution_count": 49,
   "metadata": {},
   "outputs": [],
   "source": [
    "import numpy as np\n",
    "import matplotlib.pyplot as plt\n",
    "import pandas as pd\n",
    "import os\n",
    "import patsy\n",
    "from sklearn.preprocessing import StandardScaler\n"
   ]
  },
  {
   "cell_type": "markdown",
   "metadata": {},
   "source": [
    "### 1 Loading the data"
   ]
  },
  {
   "cell_type": "code",
   "execution_count": 70,
   "metadata": {},
   "outputs": [],
   "source": [
    "os.chdir(\"D:/PUCP/JP-TC\")\n",
    "\n",
    "data = pd.read_csv('wage2015_subsample_inference.csv')\n",
    "\n",
    "X = data[[x for x in list(data.columns)\n",
    "  if (x != 'lwage')&\n",
    "     (x != 'wage')&\n",
    "     (x != 'rownames')]]\n",
    "y = data[['lwage']]"
   ]
  },
  {
   "cell_type": "code",
   "execution_count": 72,
   "metadata": {},
   "outputs": [],
   "source": [
    "y_norm = StandardScaler().fit_transform(y)\n",
    "X_norm = StandardScaler().fit_transform(X)"
   ]
  },
  {
   "cell_type": "code",
   "execution_count": 73,
   "metadata": {},
   "outputs": [],
   "source": [
    "X_flexible = patsy.dmatrix('0+ sex + (exp1+exp2+exp3+exp4+hsg+scl+clg+ad+so+we+ne+C(occ2)+C(ind2))**2',\n",
    "                      data, return_type='dataframe')"
   ]
  },
  {
   "cell_type": "markdown",
   "metadata": {},
   "source": [
    "### 2 Creating the Lasso Cross-Validation Procedure"
   ]
  },
  {
   "cell_type": "markdown",
   "metadata": {},
   "source": [
    "4. Logarithmically spaced grid"
   ]
  },
  {
   "cell_type": "code",
   "execution_count": 74,
   "metadata": {},
   "outputs": [],
   "source": [
    "def log_grid(lower:int, upper:int, log_step:int):\n",
    "    \n",
    "    log_grid = np.linspace(lower,upper,int(1/log_step))\n",
    "    \n",
    "    return np.exp(log_grid)"
   ]
  },
  {
   "cell_type": "markdown",
   "metadata": {},
   "source": [
    "5. K-folds splitting generator "
   ]
  },
  {
   "cell_type": "code",
   "execution_count": 75,
   "metadata": {},
   "outputs": [],
   "source": [
    "def k_folds(data:np.ndarray, k:int = 5):\n",
    "\n",
    "    \n",
    "    module = data.shape[0]%k\n",
    "    floor = data.shape[0]//k \n",
    "\n",
    "    if module == 0:\n",
    "        \n",
    "        trues = np.repeat(1, floor).reshape(-1,1)\n",
    "\n",
    "        split_matrix = np.kron(np.eye(k), trues)\n",
    "        \n",
    "    else:\n",
    "        \n",
    "        trues_g1 = np.repeat(1,floor+1).reshape(-1,1)\n",
    "\n",
    "        split_matrix_g1 = np.kron(np.eye(module), trues_g1)\n",
    "\n",
    "        trues_g2 = np.repeat(1,floor).reshape(-1,1)\n",
    "\n",
    "        split_matrix_g2 = np.kron(np.eye(k-module), trues_g2)\n",
    "        \n",
    "        split_matrix = np.block([[split_matrix_g1, np.zeros((split_matrix_g1.shape[0],split_matrix_g2.shape[1]))],\n",
    "                                     [np.zeros((split_matrix_g2.shape[0],split_matrix_g1.shape[1])), split_matrix_g2]])\n",
    "        \n",
    "    sm_bool = split_matrix == 1\n",
    "    \n",
    "    splits = [sm_bool[:,x] for x in range(k)]\n",
    "        \n",
    "    return splits"
   ]
  },
  {
   "cell_type": "markdown",
   "metadata": {},
   "source": [
    "6. Optimal lambda search function"
   ]
  },
  {
   "cell_type": "code",
   "execution_count": 76,
   "metadata": {},
   "outputs": [],
   "source": [
    "\n",
    "def optimal_lambda(Y:np.ndarray, X:np.ndarray, lambda_bounds:tuple, k:int=5, *, niter:int = 100):\n",
    "    \n",
    "    from sklearn.linear_model import Lasso\n",
    "    \n",
    "    all_lambdas = log_grid(lambda_bounds[0],lambda_bounds[1],1/niter)\n",
    "        \n",
    "    folds = k_folds(X,k)\n",
    "\n",
    "    all_mse = np.zeros(niter)\n",
    "\n",
    "        \n",
    "    for l in all_lambdas:\n",
    "        \n",
    "        split_pes = np.zeros(k)\n",
    "        \n",
    "        for i in range(k):\n",
    "            \n",
    "            X_train, X_test = X[~folds[i]],  X[folds[i]]\n",
    "            y_train, y_test = Y[~folds[i]],  Y[folds[i]]\n",
    "\n",
    "            \n",
    "            model = Lasso(alpha=l).fit(X_train, y_train)\n",
    "            \n",
    "            predict = model.predict(X_test)\n",
    "            \n",
    "            pe = np.sum((y_test-predict)**2)\n",
    "            \n",
    "            split_pes[i] = pe\n",
    "            \n",
    "        all_mse[all_lambdas == l] = np.mean(split_pes)\n",
    "\n",
    "    selected = np.where(all_mse == np.min(all_mse))\n",
    "\n",
    "    optimal_lambda = all_lambdas[selected][0]\n",
    "\n",
    "    \n",
    "    optimal_coef = Lasso(alpha=optimal_lambda).fit(X,y).coef_\n",
    "    \n",
    "    output = {'optimal_lambda':optimal_lambda, 'optimal_coef':optimal_coef,\n",
    "              'all_lambdas': all_lambdas, 'all_mse':all_mse}\n",
    "    \n",
    "    return output"
   ]
  },
  {
   "cell_type": "markdown",
   "metadata": {},
   "source": [
    "7. Prediction function"
   ]
  },
  {
   "cell_type": "code",
   "execution_count": 84,
   "metadata": {},
   "outputs": [],
   "source": [
    "def predict_model(optimal_model:dict, X:np.ndarray):\n",
    "    \n",
    "    return X@optimal_model['optimal_coef'].reshape(-1,1)"
   ]
  },
  {
   "cell_type": "markdown",
   "metadata": {},
   "source": [
    "### 3 Applying the Lasso Cross-Validation Procedure"
   ]
  },
  {
   "cell_type": "markdown",
   "metadata": {},
   "source": [
    "8. OLS fitting"
   ]
  },
  {
   "cell_type": "code",
   "execution_count": null,
   "metadata": {},
   "outputs": [],
   "source": [
    "from sklearn.linear_model import LinearRegression\n",
    "model_ls = LinearRegression()\n",
    "model_ls.fit(X_flexible,y_norm)"
   ]
  },
  {
   "cell_type": "markdown",
   "metadata": {},
   "source": [
    "9. Optimal lambda search"
   ]
  },
  {
   "cell_type": "code",
   "execution_count": null,
   "metadata": {},
   "outputs": [],
   "source": [
    "lambda_CV = optimal_lambda(y_norm,X_flexible, (-7,7), niter = 10)\n",
    "print(lambda_CV['optimal_lambda'])\n",
    "print(lambda_CV['optimal_coef'])"
   ]
  }
 ],
 "metadata": {
  "kernelspec": {
   "display_name": "Python 3",
   "language": "python",
   "name": "python3"
  },
  "language_info": {
   "codemirror_mode": {
    "name": "ipython",
    "version": 3
   },
   "file_extension": ".py",
   "mimetype": "text/x-python",
   "name": "python",
   "nbconvert_exporter": "python",
   "pygments_lexer": "ipython3",
   "version": "3.12.6"
  }
 },
 "nbformat": 4,
 "nbformat_minor": 2
}
